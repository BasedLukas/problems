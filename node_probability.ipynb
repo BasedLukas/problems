{
 "cells": [
  {
   "cell_type": "markdown",
   "id": "f6aa9076",
   "metadata": {},
   "source": [
    "Suppose a random process starting at node n moves to node n+1 with probability 1/3, and node n-1 with probability 2/3. The process ends if it arrives at node 0.What is the probability of reaching node 5 before node 0 if you start at node 3?"
   ]
  },
  {
   "cell_type": "code",
   "execution_count": 8,
   "id": "9ccad188",
   "metadata": {},
   "outputs": [
    {
     "name": "stdout",
     "output_type": "stream",
     "text": [
      "p of reaching 5 is 0.225881\n"
     ]
    }
   ],
   "source": [
    "import random\n",
    "\n",
    "p = (1/3)\n",
    "\n",
    "# conduct a random trial until we reach 0 or 5\n",
    "def single_trial():\n",
    "    n = 3\n",
    "    while True:\n",
    "        rand = random.random() \n",
    "        if rand < p:\n",
    "            n += 1\n",
    "        else:\n",
    "            n -= 1\n",
    "        if n == 0:\n",
    "            return False\n",
    "        if n == 5:\n",
    "            return True\n",
    "        \n",
    "#simulate multiple trials to see what happens     \n",
    "def simulate():\n",
    "    fives = 0\n",
    "    zeros = 0\n",
    "    for i in range(1000000):\n",
    "        result = single_trial()\n",
    "        if result is True:\n",
    "            fives += 1\n",
    "        else:\n",
    "            zeros += 1\n",
    "    print(f'p of reaching 5 is {fives/1000000}')\n",
    "    \n",
    "      \n",
    "    \n",
    "simulate()\n"
   ]
  },
  {
   "cell_type": "code",
   "execution_count": 7,
   "id": "98f4811d",
   "metadata": {},
   "outputs": [],
   "source": [
    "#Now the mathematical approach\n",
    "\n",
    "# s0 = 0\n",
    "# s1 = (1/3) * s2\n",
    "# s2 = (1/3) * s3 + (2/3) * s1\n",
    "# s3 = (1/3) * s4 + (2/3) * s2\n",
    "# s4 = (1/3) * s5 + (2/3) * s5\n",
    "# s5 = 1\n",
    "\n",
    "# We can plug these equations into a matrix A where each column represents a state. \n",
    "# matrix b represents the solution\n",
    "# Solve for s"
   ]
  },
  {
   "cell_type": "code",
   "execution_count": 5,
   "id": "3026ba93",
   "metadata": {},
   "outputs": [
    {
     "data": {
      "text/plain": [
       "0.22580645161290314"
      ]
     },
     "execution_count": 5,
     "metadata": {},
     "output_type": "execute_result"
    }
   ],
   "source": [
    "import numpy as np\n",
    "\n",
    "p = 1/3\n",
    "q = 2/3\n",
    "\n",
    "A = np.array([[ 1, 0, 0, 0, 0, 0],\n",
    "              [0, -1, p, 0, 0, 0],\n",
    "              [0, q, -1, p, 0, 0],\n",
    "              [0, 0, q, -1, p, 0],\n",
    "              [ 0, 0, 0, q, -1, p],\n",
    "              [0, 0, 0, 0, 0, 1]])\n",
    "\n",
    "b = np.array([0,0,0,0,0,1])\n",
    "\n",
    "solution = np.linalg.solve(A,b)\n",
    "\n",
    "solution[3]"
   ]
  }
 ],
 "metadata": {
  "kernelspec": {
   "display_name": "Python 3 (ipykernel)",
   "language": "python",
   "name": "python3"
  },
  "language_info": {
   "codemirror_mode": {
    "name": "ipython",
    "version": 3
   },
   "file_extension": ".py",
   "mimetype": "text/x-python",
   "name": "python",
   "nbconvert_exporter": "python",
   "pygments_lexer": "ipython3",
   "version": "3.11.2"
  }
 },
 "nbformat": 4,
 "nbformat_minor": 5
}
